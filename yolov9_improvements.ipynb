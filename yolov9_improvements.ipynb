{
  "nbformat": 4,
  "nbformat_minor": 0,
  "metadata": {
    "colab": {
      "provenance": [],
      "authorship_tag": "ABX9TyPLkvLDL8fmT5zFwdz1kaBn"
    },
    "kernelspec": {
      "name": "python3",
      "display_name": "Python 3"
    },
    "language_info": {
      "name": "python"
    }
  },
  "cells": [
    {
      "cell_type": "markdown",
      "source": [
        "# Preparing the environment:\n",
        "\n",
        "First let's setup the environment by cloning the repository and moving the required data for trainnig and validating the model:"
      ],
      "metadata": {
        "id": "g2sULx185Fnu"
      }
    },
    {
      "cell_type": "code",
      "execution_count": 2,
      "metadata": {
        "colab": {
          "base_uri": "https://localhost:8080/"
        },
        "id": "g4j_Z6cf45hu",
        "outputId": "0948e3e8-8ff8-4dd3-d279-2b75df998a16"
      },
      "outputs": [
        {
          "output_type": "stream",
          "name": "stdout",
          "text": [
            "Mounted at /content/drive\n"
          ]
        }
      ],
      "source": [
        "# Connect to google drive and mount it to /content/drive:\n",
        "from google.colab import drive\n",
        "drive.mount('/content/drive')"
      ]
    },
    {
      "cell_type": "code",
      "source": [
        "# Move to google drive and clone yolov9:\n",
        "\n",
        "%cd /content/drive/MyDrive/\n",
        "\n",
        "!git clone https://github.com/sheykh-8/yolov9.git"
      ],
      "metadata": {
        "colab": {
          "base_uri": "https://localhost:8080/"
        },
        "id": "KeKsOGi35esW",
        "outputId": "7ebbb7d0-b295-4580-f817-c50abcdbee35"
      },
      "execution_count": 3,
      "outputs": [
        {
          "output_type": "stream",
          "name": "stdout",
          "text": [
            "/content/drive/MyDrive\n",
            "Cloning into 'yolov9'...\n",
            "remote: Enumerating objects: 499, done.\u001b[K\n",
            "remote: Counting objects: 100% (356/356), done.\u001b[K\n",
            "remote: Compressing objects: 100% (133/133), done.\u001b[K\n",
            "remote: Total 499 (delta 267), reused 241 (delta 223), pack-reused 143\u001b[K\n",
            "Receiving objects: 100% (499/499), 2.60 MiB | 7.92 MiB/s, done.\n",
            "Resolving deltas: 100% (273/273), done.\n",
            "Updating files: 100% (120/120), done.\n"
          ]
        }
      ]
    },
    {
      "cell_type": "code",
      "source": [
        "# Copy the data here from the yolov7 project\n",
        "\n",
        "!cp -r /content/drive/MyDrive/yolov7/data/* satellitedata"
      ],
      "metadata": {
        "id": "fflKxspP6jpc"
      },
      "execution_count": 9,
      "outputs": []
    },
    {
      "cell_type": "markdown",
      "source": [
        "# Adding the GAM Module to yolov9\n",
        "\n",
        "In this section, We're going to add the GAM module to yolov9 in place of RepNCSP module and try to train the new model that emerges."
      ],
      "metadata": {
        "id": "wogmkqdw8Fop"
      }
    },
    {
      "cell_type": "code",
      "source": [
        "# Switching to the propper branch to isolate the changes in the repository.\n",
        "# All the changes are recorded as git commits in the cloned repository and I'll only pull the changes from the repository to see if the model is trainable after the changes or not.\n",
        "\n",
        "%cd /content/drive/MyDrive/yolov9\n",
        "\n",
        "!git fetch\n",
        "\n",
        "!git checkout GAMModule"
      ],
      "metadata": {
        "colab": {
          "base_uri": "https://localhost:8080/"
        },
        "id": "SpIdBdgZ5wAo",
        "outputId": "54209168-3548-4e34-cca4-45ddf7bfe8d4"
      },
      "execution_count": 8,
      "outputs": [
        {
          "output_type": "stream",
          "name": "stdout",
          "text": [
            "/content/drive/MyDrive/yolov9\n",
            "Branch 'GAMModule' set up to track remote branch 'GAMModule' from 'origin'.\n",
            "Switched to a new branch 'GAMModule'\n"
          ]
        }
      ]
    },
    {
      "cell_type": "code",
      "source": [],
      "metadata": {
        "id": "qz5U_TrW6Wim"
      },
      "execution_count": null,
      "outputs": []
    }
  ]
}