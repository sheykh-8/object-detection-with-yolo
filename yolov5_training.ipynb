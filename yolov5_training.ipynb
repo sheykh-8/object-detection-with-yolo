{
  "nbformat": 4,
  "nbformat_minor": 0,
  "metadata": {
    "colab": {
      "provenance": [],
      "authorship_tag": "ABX9TyNE4K/UNxq8TKpS3EuilY8x",
      "include_colab_link": true
    },
    "kernelspec": {
      "name": "python3",
      "display_name": "Python 3"
    },
    "language_info": {
      "name": "python"
    }
  },
  "cells": [
    {
      "cell_type": "markdown",
      "metadata": {
        "id": "view-in-github",
        "colab_type": "text"
      },
      "source": [
        "<a href=\"https://colab.research.google.com/github/sheykh-8/object-detection-with-yolo/blob/main/yolov5_training.ipynb\" target=\"_parent\"><img src=\"https://colab.research.google.com/assets/colab-badge.svg\" alt=\"Open In Colab\"/></a>"
      ]
    },
    {
      "cell_type": "code",
      "execution_count": null,
      "metadata": {
        "id": "AhCQrLwfYd6c"
      },
      "outputs": [],
      "source": [
        "# Mount google drive\n",
        "# Clone Yolo repository\n",
        "# Place the dataset in the correct position relative to the model for trainin\n",
        "# Start the trainng process for YoloV5"
      ]
    }
  ]
}